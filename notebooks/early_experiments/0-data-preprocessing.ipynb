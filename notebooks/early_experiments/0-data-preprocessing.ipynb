{
 "cells": [
  {
   "cell_type": "code",
   "execution_count": 1,
   "metadata": {
    "collapsed": true
   },
   "outputs": [],
   "source": [
    "import os\n",
    "import csv\n",
    "import pickle\n",
    "import random\n",
    "import math\n",
    "import dicom\n",
    "import numpy as np\n",
    "import scipy\n",
    "from tqdm import tqdm\n",
    "from tinydb import TinyDB, Query\n",
    "from natsort import natsorted\n",
    "from skimage import transform\n",
    "from sklearn.externals import joblib\n",
    "\n",
    "import matplotlib.pyplot as plt\n",
    "%matplotlib inline\n",
    "from PIL import Image"
   ]
  },
  {
   "cell_type": "markdown",
   "metadata": {},
   "source": [
    "#### helper functions"
   ]
  },
  {
   "cell_type": "code",
   "execution_count": 2,
   "metadata": {
    "collapsed": true
   },
   "outputs": [],
   "source": [
    "def get_filepaths():\n",
    "    with open('filepaths_train.pkl', 'rb') as f:\n",
    "        filepaths_train = pickle.load(f)\n",
    "    with open('filepaths_val.pkl', 'rb') as f:\n",
    "        filepaths_val = pickle.load(f)\n",
    "    return filepaths_train, filepaths_val"
   ]
  },
  {
   "cell_type": "code",
   "execution_count": 3,
   "metadata": {
    "collapsed": true
   },
   "outputs": [],
   "source": [
    "def get_training_labels():\n",
    "    systole_labels = {}\n",
    "    diastole_labels = {}\n",
    "    with open('../data/train.csv', 'r') as f:\n",
    "        for _id, systole, diastole in csv.reader(f):\n",
    "            if _id == 'Id':\n",
    "                continue\n",
    "            systole_labels[int(_id)] = float(systole)\n",
    "            diastole_labels[int(_id)] = float(diastole)\n",
    "    return systole_labels, diastole_labels"
   ]
  },
  {
   "cell_type": "code",
   "execution_count": 4,
   "metadata": {
    "collapsed": true
   },
   "outputs": [],
   "source": [
    "def apply_window(arr, window_center, window_width):\n",
    "    return np.clip(arr, window_center - window_width/2, window_center + window_width/2)"
   ]
  },
  {
   "cell_type": "code",
   "execution_count": 5,
   "metadata": {
    "collapsed": true
   },
   "outputs": [],
   "source": [
    "def apply_per_slice_norm(arr):\n",
    "    mean = np.mean(arr.ravel())\n",
    "    std = np.std(arr.ravel())\n",
    "    if std == 0:\n",
    "        return np.zeros(arr.shape)\n",
    "    return (arr - mean) / std"
   ]
  },
  {
   "cell_type": "code",
   "execution_count": 6,
   "metadata": {
    "collapsed": true
   },
   "outputs": [],
   "source": [
    "def crop_to_square(arr, size):\n",
    "    x_len, y_len = arr.shape\n",
    "    shorter_len = min(x_len, y_len)\n",
    "    x_start = (arr.shape[0] - shorter_len) // 2\n",
    "    x_end = x_start + shorter_len\n",
    "    y_start = (arr.shape[1] - shorter_len) // 2\n",
    "    y_end = y_start + shorter_len\n",
    "    return transform.resize(arr[x_start:x_end, y_start:y_end], \n",
    "                            (size, size), order=1, clip=True, preserve_range=False)"
   ]
  },
  {
   "cell_type": "code",
   "execution_count": 12,
   "metadata": {
    "collapsed": true
   },
   "outputs": [],
   "source": [
    "def create_image_stack(series_filepaths, img_size=196, stack_size=30):\n",
    "    image_stack = []\n",
    "    image_stack_diffs = []\n",
    "    series_filepaths_mod = series_filepaths[:stack_size]\n",
    "    if len(series_filepaths_mod) < stack_size:\n",
    "        series_filepaths_mod += series_filepaths[:(stack_size - len(series_filepaths_mod))]\n",
    "    for i, (fname, fpath) in enumerate(series_filepaths_mod):\n",
    "        df = dicom.read_file(fpath)\n",
    "        slice_arr = apply_window(crop_to_square(df.pixel_array, img_size).astype(np.float32), \n",
    "                                 df.WindowCenter, df.WindowWidth)\n",
    "        image_stack.append(slice_arr)\n",
    "    image_stack_diffs = [apply_per_slice_norm(image_stack[i+1] - image_stack[i]) for i in range(len(image_stack) - 1)]\n",
    "    image_stack = [apply_per_slice_norm(img) for img in image_stack]\n",
    "    return (np.array(image_stack).astype(np.float32), np.array(image_stack_diffs).astype(np.float32))"
   ]
  },
  {
   "cell_type": "code",
   "execution_count": 13,
   "metadata": {
    "collapsed": false
   },
   "outputs": [],
   "source": [
    "systole_labels, diastole_labels = get_training_labels()\n",
    "\n",
    "def create_label(pt, mode='systole'):\n",
    "    if mode == 'systole':\n",
    "        return systole_labels[pt] < np.arange(600)\n",
    "    elif mode == 'diastole':\n",
    "        return diastole_labels[pt] < np.arange(600)\n",
    "    else:\n",
    "        raise"
   ]
  },
  {
   "cell_type": "markdown",
   "metadata": {},
   "source": [
    "#### preprocess data"
   ]
  },
  {
   "cell_type": "code",
   "execution_count": 14,
   "metadata": {
    "collapsed": false
   },
   "outputs": [],
   "source": [
    "filepaths_train, filepaths_val = get_filepaths()"
   ]
  },
  {
   "cell_type": "code",
   "execution_count": 15,
   "metadata": {
    "collapsed": true
   },
   "outputs": [],
   "source": [
    "train_val_split = 0.05\n",
    "pts_train_val = random.sample(list(range(1, 501)), int(500 * train_val_split))\n",
    "pts_train = list(set(range(1, 501)) - set(pts_train_val))"
   ]
  },
  {
   "cell_type": "code",
   "execution_count": 16,
   "metadata": {
    "collapsed": false
   },
   "outputs": [
    {
     "name": "stderr",
     "output_type": "stream",
     "text": [
      "                                                 "
     ]
    },
    {
     "name": "stdout",
     "output_type": "stream",
     "text": [
      "(5065, 30, 196, 196) (5065, 29, 196, 196) (5065, 600) (5065, 600)\n",
      "(266, 30, 196, 196) (266, 29, 196, 196) (266, 600) (266, 600)\n",
      "(2144, 30, 196, 196) (2144, 29, 196, 196) (2144,)\n"
     ]
    },
    {
     "name": "stderr",
     "output_type": "stream",
     "text": [
      "\r"
     ]
    }
   ],
   "source": [
    "# training\n",
    "data_train = []\n",
    "data_diffs_train = []\n",
    "label_sys_train = []\n",
    "label_dia_train = []\n",
    "\n",
    "# training local validation\n",
    "data_train_val = []\n",
    "data_diffs_train_val = []\n",
    "label_sys_train_val = []\n",
    "label_dia_train_val = []\n",
    "\n",
    "# validation\n",
    "data_val = []\n",
    "data_diffs_val = []\n",
    "data_val_pt_index = []\n",
    "\n",
    "for pt in tqdm(filepaths_train.keys()):\n",
    "    for series in filepaths_train[pt].keys():\n",
    "        if series.startswith('sax'):\n",
    "            img3d, img3d_diffs = create_image_stack(filepaths_train[pt][series], img_size=196, stack_size=30)\n",
    "            label_sys = create_label(pt, mode='systole')\n",
    "            label_dia = create_label(pt, mode='diastole')\n",
    "            if pt in pts_train:\n",
    "                data_train.append(img3d)\n",
    "                data_diffs_train.append(img3d_diffs)\n",
    "                label_sys_train.append(label_sys)\n",
    "                label_dia_train.append(label_dia)\n",
    "            elif pt in pts_train_val:\n",
    "                data_train_val.append(img3d)\n",
    "                data_diffs_train_val.append(img3d_diffs)\n",
    "                label_sys_train_val.append(label_sys)\n",
    "                label_dia_train_val.append(label_dia)\n",
    "\n",
    "for pt in tqdm(filepaths_val.keys()):\n",
    "    for series in filepaths_val[pt].keys():\n",
    "        if series.startswith('sax'):\n",
    "            img3d, img3d_diffs = create_image_stack(filepaths_val[pt][series], img_size=196, stack_size=30)\n",
    "            data_val.append(img3d)\n",
    "            data_diffs_val.append(img3d_diffs)\n",
    "            data_val_pt_index.append(int(pt))\n",
    "            \n",
    "data_train = np.array(data_train).astype(np.float32)\n",
    "data_diffs_train = np.array(data_diffs_train).astype(np.float32)\n",
    "label_sys_train = np.array(label_sys_train).astype(np.bool)\n",
    "label_dia_train = np.array(label_dia_train).astype(np.bool)\n",
    "print(data_train.shape, data_diffs_train.shape, label_sys_train.shape, label_dia_train.shape)\n",
    "\n",
    "data_train_val = np.array(data_train_val).astype(np.float32)\n",
    "data_diffs_train_val = np.array(data_diffs_train_val).astype(np.float32)\n",
    "label_sys_train_val = np.array(label_sys_train_val).astype(np.bool)\n",
    "label_dia_train_val = np.array(label_dia_train_val).astype(np.bool)\n",
    "print(data_train_val.shape, data_diffs_train_val.shape, label_sys_train_val.shape, label_dia_train_val.shape)\n",
    "\n",
    "data_val = np.array(data_val).astype(np.float32)\n",
    "data_diffs_val = np.array(data_diffs_val).astype(np.float32)\n",
    "data_val_pt_index = np.array(data_val_pt_index).astype(np.uint16)\n",
    "print(data_val.shape, data_diffs_val.shape, data_val_pt_index.shape)"
   ]
  },
  {
   "cell_type": "code",
   "execution_count": 17,
   "metadata": {
    "collapsed": false
   },
   "outputs": [
    {
     "data": {
      "text/plain": [
       "['../data_proc/0-data_processed.pkl',\n",
       " '../data_proc/0-data_processed.pkl_01.npy',\n",
       " '../data_proc/0-data_processed.pkl_02.npy',\n",
       " '../data_proc/0-data_processed.pkl_03.npy',\n",
       " '../data_proc/0-data_processed.pkl_04.npy',\n",
       " '../data_proc/0-data_processed.pkl_05.npy',\n",
       " '../data_proc/0-data_processed.pkl_06.npy',\n",
       " '../data_proc/0-data_processed.pkl_07.npy',\n",
       " '../data_proc/0-data_processed.pkl_08.npy',\n",
       " '../data_proc/0-data_processed.pkl_09.npy',\n",
       " '../data_proc/0-data_processed.pkl_10.npy',\n",
       " '../data_proc/0-data_processed.pkl_11.npy']"
      ]
     },
     "execution_count": 17,
     "metadata": {},
     "output_type": "execute_result"
    }
   ],
   "source": [
    "joblib.dump((pts_train, pts_train_val, \n",
    "             data_train, data_diffs_train, label_sys_train, label_dia_train, \n",
    "             data_train_val, data_diffs_train_val, label_sys_train_val, label_dia_train_val, \n",
    "             data_val, data_diffs_val, data_val_pt_index), \n",
    "            '../data_proc/0-data_processed.pkl')"
   ]
  },
  {
   "cell_type": "code",
   "execution_count": null,
   "metadata": {
    "collapsed": true
   },
   "outputs": [],
   "source": []
  }
 ],
 "metadata": {
  "kernelspec": {
   "display_name": "Python 3",
   "language": "python",
   "name": "python3"
  },
  "language_info": {
   "codemirror_mode": {
    "name": "ipython",
    "version": 3
   },
   "file_extension": ".py",
   "mimetype": "text/x-python",
   "name": "python",
   "nbconvert_exporter": "python",
   "pygments_lexer": "ipython3",
   "version": "3.5.1"
  }
 },
 "nbformat": 4,
 "nbformat_minor": 0
}
