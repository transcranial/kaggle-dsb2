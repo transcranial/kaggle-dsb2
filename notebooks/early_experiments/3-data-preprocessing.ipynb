{
 "cells": [
  {
   "cell_type": "code",
   "execution_count": 22,
   "metadata": {
    "collapsed": true
   },
   "outputs": [],
   "source": [
    "import os\n",
    "import re\n",
    "import csv\n",
    "import pickle\n",
    "import random\n",
    "import math\n",
    "import dicom\n",
    "import numpy as np\n",
    "import scipy\n",
    "from tqdm import tqdm\n",
    "from natsort import natsorted\n",
    "from skimage import transform\n",
    "from sklearn.externals import joblib\n",
    "\n",
    "import matplotlib.pyplot as plt\n",
    "%matplotlib inline"
   ]
  },
  {
   "cell_type": "markdown",
   "metadata": {},
   "source": [
    "#### helper functions"
   ]
  },
  {
   "cell_type": "code",
   "execution_count": 23,
   "metadata": {
    "collapsed": true
   },
   "outputs": [],
   "source": [
    "def get_filepaths():\n",
    "    with open('filepaths_train.pkl', 'rb') as f:\n",
    "        filepaths_train = pickle.load(f)\n",
    "    with open('filepaths_val.pkl', 'rb') as f:\n",
    "        filepaths_val = pickle.load(f)\n",
    "    return filepaths_train, filepaths_val"
   ]
  },
  {
   "cell_type": "code",
   "execution_count": 24,
   "metadata": {
    "collapsed": true
   },
   "outputs": [],
   "source": [
    "def get_training_labels():\n",
    "    systole_labels = {}\n",
    "    diastole_labels = {}\n",
    "    with open('../data/train.csv', 'r') as f:\n",
    "        for _id, systole, diastole in csv.reader(f):\n",
    "            if _id == 'Id':\n",
    "                continue\n",
    "            systole_labels[int(_id)] = float(systole)\n",
    "            diastole_labels[int(_id)] = float(diastole)\n",
    "    return systole_labels, diastole_labels"
   ]
  },
  {
   "cell_type": "code",
   "execution_count": 25,
   "metadata": {
    "collapsed": true
   },
   "outputs": [],
   "source": [
    "def apply_window(arr, window_center, window_width):\n",
    "    return np.clip(arr, window_center - window_width/2, window_center + window_width/2)"
   ]
  },
  {
   "cell_type": "code",
   "execution_count": 50,
   "metadata": {
    "collapsed": true
   },
   "outputs": [],
   "source": [
    "def apply_norm(arr):\n",
    "    max_val = np.max(arr.ravel())\n",
    "    if max_val == 0:\n",
    "        return np.zeros(arr.shape)\n",
    "    arr = arr / max_val\n",
    "    mean = np.mean(arr.ravel())\n",
    "    std = np.std(arr.ravel())\n",
    "    if std == 0:\n",
    "        return np.zeros(arr.shape)\n",
    "    return (arr - mean)"
   ]
  },
  {
   "cell_type": "code",
   "execution_count": 27,
   "metadata": {
    "collapsed": true
   },
   "outputs": [],
   "source": [
    "def crop_to_square(arr, size):\n",
    "    x_len, y_len = arr.shape\n",
    "    shorter_len = min(x_len, y_len)\n",
    "    x_start = (arr.shape[0] - shorter_len) // 2\n",
    "    x_end = x_start + shorter_len\n",
    "    y_start = (arr.shape[1] - shorter_len) // 2\n",
    "    y_end = y_start + shorter_len\n",
    "    return transform.resize(arr[x_start:x_end, y_start:y_end], \n",
    "                            (size, size), order=1, clip=True, preserve_range=True)"
   ]
  },
  {
   "cell_type": "code",
   "execution_count": 51,
   "metadata": {
    "collapsed": true
   },
   "outputs": [],
   "source": [
    "def interp_vol4d(vol4d, z_locs, nb_slices_z):\n",
    "    \n",
    "    def find_interval(test_loc):\n",
    "        for i in range(len(z_locs) - 1):\n",
    "            if z_locs[i] <= test_loc <= z_locs[i+1]:\n",
    "                return i\n",
    "        return 0\n",
    "        \n",
    "    # vol4d shape is (depth, time, row, col)\n",
    "    # z_locs are the slice locations corresponding to slices along the depth axis\n",
    "    # we reshape through interpolation to nb_slices_z along the depth axis\n",
    "    vol4d_new = np.zeros((nb_slices_z, vol4d.shape[1], vol4d.shape[2], vol4d.shape[3]))\n",
    "    z_locs_new = [z_locs[0]]\n",
    "    for i in range(1, nb_slices_z - 1):\n",
    "        z_locs_new.append(z_locs[0] + i * (z_locs[-1] - z_locs[0]) / (nb_slices_z - 1))\n",
    "    z_locs_new.append(z_locs[-1])\n",
    "    \n",
    "    for z, loc in enumerate(z_locs_new):\n",
    "        if z == 0:\n",
    "            vol4d_new[0, :, :, :] = vol4d[0, :, :, :]\n",
    "        elif z == len(z_locs_new) - 1:\n",
    "            vol4d_new[-1, :, :, :] = vol4d[-1, :, :, :]\n",
    "        else:\n",
    "            idx = find_interval(loc)\n",
    "            z_loc_lower = z_locs[idx]\n",
    "            z_loc_upper = z_locs[idx + 1]\n",
    "            vol4d_new[z, :, :, :] = vol4d[idx, :, :, :] + ((loc - z_loc_lower) / (z_loc_upper - z_loc_lower)) * (vol4d[idx+1, :, :, :] - vol4d[idx, :, :, :])\n",
    "            \n",
    "    return vol4d_new\n",
    "    "
   ]
  },
  {
   "cell_type": "code",
   "execution_count": null,
   "metadata": {
    "collapsed": true
   },
   "outputs": [],
   "source": [
    "def create_tensors_2ch(filepaths, img_size=196):"
   ]
  },
  {
   "cell_type": "code",
   "execution_count": null,
   "metadata": {
    "collapsed": true
   },
   "outputs": [],
   "source": [
    "def create_tensors_4ch(filepaths, img_size=196):"
   ]
  },
  {
   "cell_type": "code",
   "execution_count": 52,
   "metadata": {
    "collapsed": true
   },
   "outputs": [],
   "source": [
    "def create_tensors_sax(filepaths, img_size=196, nb_slices_z=10):\n",
    "    t_slices = 30\n",
    "    \n",
    "    # create sax series filepaths\n",
    "    # handles irregularies such as those including z-slices and t-slices in the same folder\n",
    "    series_filepaths_all = []\n",
    "    for view in filepaths.keys(): \n",
    "        if not re.match(r'^sax', view):\n",
    "            continue\n",
    "        if len(filepaths[view]) == t_slices:\n",
    "            series_filepaths_all.append(filepaths[view])\n",
    "        elif len(filepaths[view]) < t_slices:\n",
    "            series_filepaths_all.append(filepaths[view][:] + filepaths[view][:(t_slices - len(filepaths[view]))])\n",
    "        else:\n",
    "            if re.match(r'^\\w+-\\d+-\\d+-\\d+.dcm$', filepaths[view][0][0]) is not None:\n",
    "                series_filepaths_split = []\n",
    "                slices_list = []\n",
    "                series_filepaths_sort_by_slice = sorted(filepaths[view][:], key=lambda x: '{}-{}'.format(x[0].split('-')[-1].split('.')[0], x[0].split('-')[-2]))\n",
    "                for fname, fpath in series_filepaths_sort_by_slice:\n",
    "                    nslice = fname.split('-')[-1].split('.')[0]\n",
    "                    tframe = fname.split('-')[-2]\n",
    "                    if nslice not in slices_list:\n",
    "                        if len(series_filepaths_split) == t_slices:\n",
    "                            series_filepaths_all.append(series_filepaths_split)\n",
    "                        elif len(series_filepaths_split) < t_slices and len(series_filepaths_split) > 0:\n",
    "                            series_filepaths_all.append(series_filepaths_split[:] + series_filepaths_split[:(t_slices - len(series_filepaths_split))])\n",
    "                        series_filepaths_split = []\n",
    "                        series_filepaths_split.append((fname, fpath))\n",
    "                        slices_list.append(nslice)\n",
    "                    else:\n",
    "                        series_filepaths_split.append((fname, fpath))\n",
    "                        \n",
    "    # sort series by z-locations\n",
    "    z_locs = []\n",
    "    for series_filepaths in series_filepaths_all:\n",
    "        df = dicom.read_file(series_filepaths[0][1])\n",
    "        z_locs.append(df.SliceLocation)\n",
    "    series_filepaths_all_zsorted = [series_filepaths for (loc, series_filepaths) in sorted(zip(z_locs, series_filepaths_all), key=lambda pair: pair[0])]\n",
    "    z_locs = sorted(z_locs)\n",
    "    \n",
    "    # create 4d volumens\n",
    "    vol4d = []\n",
    "    for series_filepaths in series_filepaths_all_zsorted:\n",
    "        image_stack = []\n",
    "        for i, (fname, fpath) in enumerate(series_filepaths):\n",
    "            df = dicom.read_file(fpath)\n",
    "            slice_arr = crop_to_square(df.pixel_array, img_size)\n",
    "            image_stack.append(slice_arr)\n",
    "        vol4d.append(np.array(image_stack).astype(np.float32))\n",
    "    vol4d = interp_vol4d(np.array(vol4d).astype(np.float32), z_locs, nb_slices_z)\n",
    "        \n",
    "    return apply_norm(vol4d)"
   ]
  },
  {
   "cell_type": "code",
   "execution_count": 53,
   "metadata": {
    "collapsed": false
   },
   "outputs": [],
   "source": [
    "systole_labels, diastole_labels = get_training_labels()\n",
    "\n",
    "def create_label(pt, mode='systole'):\n",
    "    if mode == 'systole':\n",
    "        return systole_labels[pt] < np.arange(600)\n",
    "    elif mode == 'diastole':\n",
    "        return diastole_labels[pt] < np.arange(600)\n",
    "    else:\n",
    "        raise"
   ]
  },
  {
   "cell_type": "markdown",
   "metadata": {},
   "source": [
    "#### preprocess data"
   ]
  },
  {
   "cell_type": "code",
   "execution_count": 62,
   "metadata": {
    "collapsed": false
   },
   "outputs": [],
   "source": [
    "filepaths_train, filepaths_val = get_filepaths()"
   ]
  },
  {
   "cell_type": "code",
   "execution_count": 63,
   "metadata": {
    "collapsed": true
   },
   "outputs": [],
   "source": [
    "train_val_split = 0.05\n",
    "pts_train_val = random.sample(list(range(1, 501)), int(500 * train_val_split))\n",
    "pts_train = list(set(range(1, 501)) - set(pts_train_val))"
   ]
  },
  {
   "cell_type": "code",
   "execution_count": 64,
   "metadata": {
    "collapsed": false,
    "scrolled": true
   },
   "outputs": [
    {
     "name": "stderr",
     "output_type": "stream",
     "text": [
      "                                                 "
     ]
    },
    {
     "name": "stdout",
     "output_type": "stream",
     "text": [
      "(950, 20, 30, 96, 96) (950, 600) (950, 600)\n",
      "(50, 20, 30, 96, 96) (50, 600) (50, 600)\n",
      "(200, 20, 30, 96, 96) (200,)\n"
     ]
    },
    {
     "name": "stderr",
     "output_type": "stream",
     "text": [
      "\r"
     ]
    }
   ],
   "source": [
    "# training\n",
    "data_train = []\n",
    "label_sys_train = []\n",
    "label_dia_train = []\n",
    "\n",
    "# training local validation\n",
    "data_train_val = []\n",
    "label_sys_train_val = []\n",
    "label_dia_train_val = []\n",
    "\n",
    "# validation\n",
    "data_val = []\n",
    "data_val_pt_index = []\n",
    "\n",
    "for pt in tqdm(filepaths_train.keys()):\n",
    "    vol4d = create_tensors_sax(filepaths_train[pt], img_size=96, nb_slices_z=20)\n",
    "    labels_sys = create_label(pt, mode='systole')\n",
    "    labels_dia = create_label(pt, mode='diastole')\n",
    "    if pt in pts_train:\n",
    "        data_train.append(vol4d)\n",
    "        label_sys_train.append(labels_sys)\n",
    "        label_dia_train.append(labels_dia)\n",
    "        data_train.append(vol4d[:,::-1,:,:])\n",
    "        label_sys_train.append(labels_sys)\n",
    "        label_dia_train.append(labels_dia)\n",
    "    elif pt in pts_train_val:\n",
    "        data_train_val.append(vol4d)\n",
    "        label_sys_train_val.append(labels_sys)\n",
    "        label_dia_train_val.append(labels_dia)\n",
    "        data_train_val.append(vol4d[:,::-1,:,:])\n",
    "        label_sys_train_val.append(labels_sys)\n",
    "        label_dia_train_val.append(labels_dia)\n",
    "\n",
    "for pt in tqdm(filepaths_val.keys()):\n",
    "    vol4d = create_tensors_sax(filepaths_val[pt], img_size=96, nb_slices_z=20)\n",
    "    data_val.append(vol4d)\n",
    "    data_val_pt_index.append(int(pt))\n",
    "            \n",
    "data_train = np.array(data_train).astype(np.float32)\n",
    "label_sys_train = np.array(label_sys_train).astype(np.bool)\n",
    "label_dia_train = np.array(label_dia_train).astype(np.bool)\n",
    "print(data_train.shape, label_sys_train.shape, label_dia_train.shape)\n",
    "\n",
    "data_train_val = np.array(data_train_val).astype(np.float32)\n",
    "label_sys_train_val = np.array(label_sys_train_val).astype(np.bool)\n",
    "label_dia_train_val = np.array(label_dia_train_val).astype(np.bool)\n",
    "print(data_train_val.shape, label_sys_train_val.shape, label_dia_train_val.shape)\n",
    "\n",
    "data_val = np.array(data_val).astype(np.float32)\n",
    "data_val_pt_index = np.array(data_val_pt_index).astype(np.uint16)\n",
    "print(data_val.shape, data_val_pt_index.shape)"
   ]
  },
  {
   "cell_type": "code",
   "execution_count": 65,
   "metadata": {
    "collapsed": false
   },
   "outputs": [
    {
     "name": "stdout",
     "output_type": "stream",
     "text": [
      "-0.263469 0.979237\n",
      "-0.191686 0.969832\n",
      "-0.217834 0.981337\n"
     ]
    }
   ],
   "source": [
    "print(np.min(data_train), np.max(data_train))\n",
    "print(np.min(data_train_val), np.max(data_train_val))\n",
    "print(np.min(data_val), np.max(data_val))"
   ]
  },
  {
   "cell_type": "code",
   "execution_count": 66,
   "metadata": {
    "collapsed": false
   },
   "outputs": [
    {
     "data": {
      "text/plain": [
       "['../data_proc/3-data_processed.pkl',\n",
       " '../data_proc/3-data_processed.pkl_01.npy',\n",
       " '../data_proc/3-data_processed.pkl_02.npy',\n",
       " '../data_proc/3-data_processed.pkl_03.npy',\n",
       " '../data_proc/3-data_processed.pkl_04.npy',\n",
       " '../data_proc/3-data_processed.pkl_05.npy',\n",
       " '../data_proc/3-data_processed.pkl_06.npy',\n",
       " '../data_proc/3-data_processed.pkl_07.npy',\n",
       " '../data_proc/3-data_processed.pkl_08.npy']"
      ]
     },
     "execution_count": 66,
     "metadata": {},
     "output_type": "execute_result"
    }
   ],
   "source": [
    "joblib.dump((pts_train, pts_train_val, \n",
    "             data_train, label_sys_train, label_dia_train, \n",
    "             data_train_val, label_sys_train_val, label_dia_train_val, \n",
    "             data_val, data_val_pt_index), \n",
    "            '../data_proc/3-data_processed.pkl')"
   ]
  },
  {
   "cell_type": "code",
   "execution_count": null,
   "metadata": {
    "collapsed": true
   },
   "outputs": [],
   "source": []
  }
 ],
 "metadata": {
  "kernelspec": {
   "display_name": "Python 3",
   "language": "python",
   "name": "python3"
  },
  "language_info": {
   "codemirror_mode": {
    "name": "ipython",
    "version": 3
   },
   "file_extension": ".py",
   "mimetype": "text/x-python",
   "name": "python",
   "nbconvert_exporter": "python",
   "pygments_lexer": "ipython3",
   "version": "3.5.1"
  }
 },
 "nbformat": 4,
 "nbformat_minor": 0
}
