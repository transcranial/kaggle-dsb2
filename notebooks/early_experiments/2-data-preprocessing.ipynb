{
 "cells": [
  {
   "cell_type": "code",
   "execution_count": 1,
   "metadata": {
    "collapsed": true
   },
   "outputs": [],
   "source": [
    "import os\n",
    "import re\n",
    "import csv\n",
    "import pickle\n",
    "import random\n",
    "import math\n",
    "import dicom\n",
    "import numpy as np\n",
    "import scipy\n",
    "from tqdm import tqdm\n",
    "from natsort import natsorted\n",
    "from skimage import transform\n",
    "from sklearn.externals import joblib\n",
    "\n",
    "import matplotlib.pyplot as plt\n",
    "%matplotlib inline"
   ]
  },
  {
   "cell_type": "markdown",
   "metadata": {},
   "source": [
    "#### helper functions"
   ]
  },
  {
   "cell_type": "code",
   "execution_count": 2,
   "metadata": {
    "collapsed": true
   },
   "outputs": [],
   "source": [
    "def get_filepaths():\n",
    "    with open('filepaths_train.pkl', 'rb') as f:\n",
    "        filepaths_train = pickle.load(f)\n",
    "    with open('filepaths_val.pkl', 'rb') as f:\n",
    "        filepaths_val = pickle.load(f)\n",
    "    return filepaths_train, filepaths_val"
   ]
  },
  {
   "cell_type": "code",
   "execution_count": 3,
   "metadata": {
    "collapsed": true
   },
   "outputs": [],
   "source": [
    "def get_training_labels():\n",
    "    systole_labels = {}\n",
    "    diastole_labels = {}\n",
    "    with open('../data/train.csv', 'r') as f:\n",
    "        for _id, systole, diastole in csv.reader(f):\n",
    "            if _id == 'Id':\n",
    "                continue\n",
    "            systole_labels[int(_id)] = float(systole)\n",
    "            diastole_labels[int(_id)] = float(diastole)\n",
    "    return systole_labels, diastole_labels"
   ]
  },
  {
   "cell_type": "code",
   "execution_count": 4,
   "metadata": {
    "collapsed": true
   },
   "outputs": [],
   "source": [
    "def apply_window(arr, window_center, window_width):\n",
    "    return np.clip(arr, window_center - window_width/2, window_center + window_width/2)"
   ]
  },
  {
   "cell_type": "code",
   "execution_count": 5,
   "metadata": {
    "collapsed": true
   },
   "outputs": [],
   "source": [
    "def apply_per_slice_norm(arr):\n",
    "    mean = np.mean(arr.ravel())\n",
    "    std = np.std(arr.ravel())\n",
    "    if std == 0:\n",
    "        return np.zeros(arr.shape)\n",
    "    return (arr - mean) / std"
   ]
  },
  {
   "cell_type": "code",
   "execution_count": 6,
   "metadata": {
    "collapsed": true
   },
   "outputs": [],
   "source": [
    "def crop_to_square(arr, size):\n",
    "    x_len, y_len = arr.shape\n",
    "    shorter_len = min(x_len, y_len)\n",
    "    x_start = (arr.shape[0] - shorter_len) // 2\n",
    "    x_end = x_start + shorter_len\n",
    "    y_start = (arr.shape[1] - shorter_len) // 2\n",
    "    y_end = y_start + shorter_len\n",
    "    return transform.resize(arr[x_start:x_end, y_start:y_end], \n",
    "                            (size, size), order=1, clip=True, preserve_range=True)"
   ]
  },
  {
   "cell_type": "code",
   "execution_count": 7,
   "metadata": {
    "collapsed": true
   },
   "outputs": [],
   "source": [
    "def create_image_stack(series_filepaths, img_size=196, stack_size=30):\n",
    "    series_filepaths_all = []\n",
    "    if len(series_filepaths) == stack_size:\n",
    "        series_filepaths_all.append(series_filepaths)\n",
    "    elif len(series_filepaths) < stack_size:\n",
    "        series_filepaths_all.append(series_filepaths[:] + series_filepaths[:(stack_size - len(series_filepaths))])\n",
    "    else:\n",
    "        if re.match(r'^\\w+-\\d+-\\d+-\\d+.dcm$', series_filepaths[0][0]) is not None:\n",
    "            series_filepaths_split = []\n",
    "            slices_list = []\n",
    "            series_filepaths_sort_by_slice = sorted(series_filepaths[:], key=lambda x: '{}-{}'.format(x[0].split('-')[-1].split('.')[0], x[0].split('-')[-2]))\n",
    "            for fname, fpath in series_filepaths_sort_by_slice:\n",
    "                nslice = fname.split('-')[-1].split('.')[0]\n",
    "                tframe = fname.split('-')[-2]\n",
    "                if nslice not in slices_list:\n",
    "                    if len(series_filepaths_split) == stack_size:\n",
    "                        series_filepaths_all.append(series_filepaths_split)\n",
    "                    elif len(series_filepaths_split) < stack_size and len(series_filepaths_split) > 0:\n",
    "                        series_filepaths_all.append(series_filepaths_split[:] + series_filepaths_split[:(stack_size - len(series_filepaths_split))])\n",
    "                    series_filepaths_split = []\n",
    "                    series_filepaths_split.append((fname, fpath))\n",
    "                    slices_list.append(nslice)\n",
    "                else:\n",
    "                    series_filepaths_split.append((fname, fpath))\n",
    "            \n",
    "    image_stacks = []\n",
    "    for series_filepaths_mod in series_filepaths_all:\n",
    "        image_stack = []\n",
    "        for i, (fname, fpath) in enumerate(series_filepaths_mod):\n",
    "            df = dicom.read_file(fpath)\n",
    "            slice_arr = apply_per_slice_norm(crop_to_square(df.pixel_array, img_size))\n",
    "            image_stack.append(slice_arr)\n",
    "        image_stacks.append(np.array(image_stack).astype(np.float32))\n",
    "        \n",
    "    return image_stacks"
   ]
  },
  {
   "cell_type": "code",
   "execution_count": 8,
   "metadata": {
    "collapsed": false
   },
   "outputs": [],
   "source": [
    "systole_labels, diastole_labels = get_training_labels()\n",
    "\n",
    "def create_label(pt, mode='systole'):\n",
    "    if mode == 'systole':\n",
    "        return systole_labels[pt] < np.arange(600)\n",
    "    elif mode == 'diastole':\n",
    "        return diastole_labels[pt] < np.arange(600)\n",
    "    else:\n",
    "        raise"
   ]
  },
  {
   "cell_type": "markdown",
   "metadata": {},
   "source": [
    "#### preprocess data"
   ]
  },
  {
   "cell_type": "code",
   "execution_count": 9,
   "metadata": {
    "collapsed": false
   },
   "outputs": [],
   "source": [
    "filepaths_train, filepaths_val = get_filepaths()"
   ]
  },
  {
   "cell_type": "code",
   "execution_count": 10,
   "metadata": {
    "collapsed": true
   },
   "outputs": [],
   "source": [
    "train_val_split = 0.05\n",
    "pts_train_val = random.sample(list(range(1, 501)), int(500 * train_val_split))\n",
    "pts_train = list(set(range(1, 501)) - set(pts_train_val))"
   ]
  },
  {
   "cell_type": "code",
   "execution_count": 11,
   "metadata": {
    "collapsed": false
   },
   "outputs": [
    {
     "name": "stderr",
     "output_type": "stream",
     "text": [
      "                                                 "
     ]
    },
    {
     "name": "stdout",
     "output_type": "stream",
     "text": [
      "(5113, 30, 250, 250) (5113, 600) (5113, 600)\n",
      "(259, 30, 250, 250) (259, 600) (259, 600)\n",
      "(2169, 30, 250, 250) (2169,)\n"
     ]
    },
    {
     "name": "stderr",
     "output_type": "stream",
     "text": [
      "\r"
     ]
    }
   ],
   "source": [
    "# training\n",
    "data_train = []\n",
    "label_sys_train = []\n",
    "label_dia_train = []\n",
    "\n",
    "# training local validation\n",
    "data_train_val = []\n",
    "label_sys_train_val = []\n",
    "label_dia_train_val = []\n",
    "\n",
    "# validation\n",
    "data_val = []\n",
    "data_val_pt_index = []\n",
    "\n",
    "for pt in tqdm(filepaths_train.keys()):\n",
    "    for series in filepaths_train[pt].keys():\n",
    "        if series.startswith('sax'):\n",
    "            imgs3d = create_image_stack(filepaths_train[pt][series], img_size=250, stack_size=30)\n",
    "            labels_sys = [create_label(pt, mode='systole')] * len(imgs3d)\n",
    "            labels_dia = [create_label(pt, mode='diastole')] * len(imgs3d)\n",
    "            if pt in pts_train:\n",
    "                data_train.extend(imgs3d)\n",
    "                label_sys_train.extend(labels_sys)\n",
    "                label_dia_train.extend(labels_dia)\n",
    "            elif pt in pts_train_val:\n",
    "                data_train_val.extend(imgs3d)\n",
    "                label_sys_train_val.extend(labels_sys)\n",
    "                label_dia_train_val.extend(labels_dia)\n",
    "\n",
    "for pt in tqdm(filepaths_val.keys()):\n",
    "    for series in filepaths_val[pt].keys():\n",
    "        if series.startswith('sax'):\n",
    "            imgs3d = create_image_stack(filepaths_val[pt][series], img_size=250, stack_size=30)\n",
    "            data_val.extend(imgs3d)\n",
    "            data_val_pt_index.extend([int(pt)] * len(imgs3d))\n",
    "            \n",
    "data_train = np.array(data_train).astype(np.float32)\n",
    "label_sys_train = np.array(label_sys_train).astype(np.bool)\n",
    "label_dia_train = np.array(label_dia_train).astype(np.bool)\n",
    "print(data_train.shape, label_sys_train.shape, label_dia_train.shape)\n",
    "\n",
    "data_train_val = np.array(data_train_val).astype(np.float32)\n",
    "label_sys_train_val = np.array(label_sys_train_val).astype(np.bool)\n",
    "label_dia_train_val = np.array(label_dia_train_val).astype(np.bool)\n",
    "print(data_train_val.shape, label_sys_train_val.shape, label_dia_train_val.shape)\n",
    "\n",
    "data_val = np.array(data_val).astype(np.float32)\n",
    "data_val_pt_index = np.array(data_val_pt_index).astype(np.uint16)\n",
    "print(data_val.shape, data_val_pt_index.shape)"
   ]
  },
  {
   "cell_type": "code",
   "execution_count": 12,
   "metadata": {
    "collapsed": false
   },
   "outputs": [
    {
     "data": {
      "text/plain": [
       "['../data_proc/2-data_processed.pkl',\n",
       " '../data_proc/2-data_processed.pkl_01.npy',\n",
       " '../data_proc/2-data_processed.pkl_02.npy',\n",
       " '../data_proc/2-data_processed.pkl_03.npy',\n",
       " '../data_proc/2-data_processed.pkl_04.npy',\n",
       " '../data_proc/2-data_processed.pkl_05.npy',\n",
       " '../data_proc/2-data_processed.pkl_06.npy',\n",
       " '../data_proc/2-data_processed.pkl_07.npy',\n",
       " '../data_proc/2-data_processed.pkl_08.npy']"
      ]
     },
     "execution_count": 12,
     "metadata": {},
     "output_type": "execute_result"
    }
   ],
   "source": [
    "joblib.dump((pts_train, pts_train_val, \n",
    "             data_train, label_sys_train, label_dia_train, \n",
    "             data_train_val, label_sys_train_val, label_dia_train_val, \n",
    "             data_val, data_val_pt_index), \n",
    "            '../data_proc/2-data_processed.pkl')"
   ]
  },
  {
   "cell_type": "code",
   "execution_count": 13,
   "metadata": {
    "collapsed": false
   },
   "outputs": [
    {
     "name": "stdout",
     "output_type": "stream",
     "text": [
      "-1.62978 29.2818\n",
      "-1.52743 23.5037\n",
      "-1.68505 31.3315\n"
     ]
    }
   ],
   "source": [
    "print(np.min(data_train), np.max(data_train))\n",
    "print(np.min(data_train_val), np.max(data_train_val))\n",
    "print(np.min(data_val), np.max(data_val))"
   ]
  },
  {
   "cell_type": "code",
   "execution_count": null,
   "metadata": {
    "collapsed": true
   },
   "outputs": [],
   "source": []
  }
 ],
 "metadata": {
  "kernelspec": {
   "display_name": "Python 3",
   "language": "python",
   "name": "python3"
  },
  "language_info": {
   "codemirror_mode": {
    "name": "ipython",
    "version": 3
   },
   "file_extension": ".py",
   "mimetype": "text/x-python",
   "name": "python",
   "nbconvert_exporter": "python",
   "pygments_lexer": "ipython3",
   "version": "3.5.1"
  }
 },
 "nbformat": 4,
 "nbformat_minor": 0
}
